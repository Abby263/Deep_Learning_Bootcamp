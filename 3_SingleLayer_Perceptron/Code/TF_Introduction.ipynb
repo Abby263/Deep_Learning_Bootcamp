{
 "cells": [
  {
   "cell_type": "code",
   "execution_count": 1,
   "metadata": {},
   "outputs": [
    {
     "name": "stdout",
     "output_type": "stream",
     "text": [
      "Tensor(\"Const:0\", shape=(), dtype=float32) Tensor(\"Const_1:0\", shape=(), dtype=float32)\n",
      "Tensor(\"mul:0\", shape=(), dtype=float32)\n"
     ]
    }
   ],
   "source": [
    "import tensorflow as tf\n",
    "\n",
    "node1 = tf.constant(5.0)\n",
    "node2 = tf.constant(4.0)\n",
    "\n",
    "c = node1*node2\n",
    "\n",
    "print(node1, node2)\n",
    "print(c)"
   ]
  },
  {
   "cell_type": "code",
   "execution_count": 2,
   "metadata": {},
   "outputs": [
    {
     "name": "stdout",
     "output_type": "stream",
     "text": [
      "[5.0, 4.0]\n",
      "[20.0]\n"
     ]
    }
   ],
   "source": [
    "# Running a computational graph\n",
    "# Method 1 : Create a TF Session \n",
    "sess = tf.Session()\n",
    "print(sess.run([node1,node2]))\n",
    "print(sess.run([c]))"
   ]
  },
  {
   "cell_type": "code",
   "execution_count": 3,
   "metadata": {},
   "outputs": [
    {
     "name": "stdout",
     "output_type": "stream",
     "text": [
      "[5.0, 4.0]\n",
      "[20.0]\n"
     ]
    }
   ],
   "source": [
    "# Running a computational graph\n",
    "# Method 2 : Creating TF Session. \n",
    "# Session gets automatically closed once computation is done.\n",
    "with tf.Session() as sess:\n",
    "    output = sess.run([node1,node2])\n",
    "    print(output)\n",
    "    print(sess.run([c]))"
   ]
  },
  {
   "cell_type": "code",
   "execution_count": 5,
   "metadata": {},
   "outputs": [],
   "source": [
    "# Tensorboard\n",
    "# sess.graph is used for creating graph object\n",
    "File_Writer = tf.summary.FileWriter('graph',sess.graph)"
   ]
  },
  {
   "cell_type": "code",
   "execution_count": null,
   "metadata": {},
   "outputs": [],
   "source": [
    "# Constants\n",
    "import tensorflow as tf\n",
    "\n",
    "node1 = tf.constant(5.0)\n",
    "node2 = tf.constant(4.0)\n",
    "\n",
    "c = node1*node2\n",
    "\n",
    "print(node1, node2)\n",
    "print(c)\n"
   ]
  },
  {
   "cell_type": "code",
   "execution_count": 7,
   "metadata": {},
   "outputs": [
    {
     "name": "stdout",
     "output_type": "stream",
     "text": [
      "[3. 7.]\n"
     ]
    }
   ],
   "source": [
    "# Placeholders\n",
    "import tensorflow as tf\n",
    "\n",
    "node1 = tf.placeholder(tf.float32)\n",
    "node2 = tf.placeholder(tf.float32)\n",
    "\n",
    "adder_node = node1 + node2\n",
    "\n",
    "sess = tf.Session()\n",
    "\n",
    "print(sess.run(adder_node,{node1:[1,3],node2:[2,4]}))"
   ]
  },
  {
   "cell_type": "code",
   "execution_count": 26,
   "metadata": {},
   "outputs": [
    {
     "name": "stdout",
     "output_type": "stream",
     "text": [
      "[0.         0.3        0.6        0.90000004]\n",
      "[ 0. -1. -2. -3.]\n",
      "[0.  1.3 2.6 3.9]\n",
      "[ 0.         1.6899998  6.7599993 15.210001 ]\n",
      "23.66\n"
     ]
    }
   ],
   "source": [
    "# Variables\n",
    "# While training variables are used to hold & update weights\n",
    "\n",
    "import tensorflow as tf\n",
    "\n",
    "# Model Parameters\n",
    "W = tf.Variable([.3],tf.float32)\n",
    "b = tf.Variable([-.3],tf.float32)\n",
    "\n",
    "# Inputs and Outputs\n",
    "x = tf.placeholder(tf.float32)\n",
    "\n",
    "linear_model = W*x + b\n",
    "\n",
    "y = tf.placeholder(tf.float32)\n",
    "\n",
    "# Loss\n",
    "squared_delta = tf.square(linear_model - y)\n",
    "loss = tf.reduce_sum(squared_delta)\n",
    "\n",
    "\n",
    "#Initialize all variables\n",
    "init = tf.global_variables_initializer()\n",
    "\n",
    "sess = tf.Session()\n",
    "\n",
    "sess.run(init)\n",
    "\n",
    "\n",
    "print(sess.run(linear_model,{x:[1,2,3,4],y:[0,-1,-2,-3]}))\n",
    "print(sess.run(y,{x:[1,2,3,4],y:[0,-1,-2,-3]}))\n",
    "print(sess.run(linear_model - y,{x:[1,2,3,4],y:[0,-1,-2,-3]}))\n",
    "print(sess.run(squared_delta,{x:[1,2,3,4],y:[0,-1,-2,-3]}))\n",
    "print(sess.run(loss,{x:[1,2,3,4],y:[0,-1,-2,-3]}))\n",
    "\n",
    "# Values\n",
    "# linear_model = [0., 0.3, 0.6, 0.90000004]\n",
    "# y = [ 0., -1., -2., -3.]\n",
    "# linear_model - y = [0., 1.3, 2.6, 3.9]\n",
    "# squared_delta = [ 0. , 1.6899998 , 6.7599993 , 15.210001 ]\n",
    "\n",
    "\n",
    "# Note :\n",
    "# If we take, w = 0.3 & b = -0.3\n",
    "# w * x + b = 0.3*1 + (-0.3) = 0 \n",
    "# w * x + b = 0.3*2 + (-0.3) = 0.3\n",
    "# w * x + b = 0.3*3 + (-0.3) = 0.6\n",
    "# w * x + b = 0.3*4 + (-0.3) = 0.9\n",
    "# Loss = 0\n",
    "\n",
    "# Note :\n",
    "# If we take, w = -1 & b = 1\n",
    "# w * x + b = 0, = -1*1 + 1 = 0\n",
    "# w * x + b = -1  = -1*2 + 1 = -1\n",
    "# w * x + b = -2\n",
    "# w * x + b = -3\n",
    "# Loss = 0\n"
   ]
  },
  {
   "cell_type": "code",
   "execution_count": 10,
   "metadata": {},
   "outputs": [
    {
     "name": "stdout",
     "output_type": "stream",
     "text": [
      "0.0\n"
     ]
    }
   ],
   "source": [
    "# Manually updating the weights for 0 l\n",
    "\n",
    "import tensorflow as tf\n",
    "\n",
    "# Model Parameters\n",
    "W = tf.Variable([-1.0],tf.float32)\n",
    "b = tf.Variable([1.0],tf.float32)\n",
    "\n",
    "# Inputs and Outputs\n",
    "x = tf.placeholder(tf.float32)\n",
    "\n",
    "linear_model = W*x + b\n",
    "\n",
    "y = tf.placeholder(tf.float32)\n",
    "\n",
    "# Loss\n",
    "squared_delta = tf.square(linear_model - y)\n",
    "loss = tf.reduce_sum(squared_delta)\n",
    "\n",
    "#Initialize all variables\n",
    "init = tf.global_variables_initializer()\n",
    "\n",
    "sess = tf.Session()\n",
    "\n",
    "sess.run(init)\n",
    "\n",
    "print(sess.run(loss,{x:[1,2,3,4],y:[0,-1,-2,-3]}))"
   ]
  },
  {
   "cell_type": "code",
   "execution_count": null,
   "metadata": {},
   "outputs": [],
   "source": [
    "# Over here, we have manually updated the weights but if we want the machine to do it for us.\n",
    "# We need optimisers."
   ]
  },
  {
   "cell_type": "code",
   "execution_count": 19,
   "metadata": {},
   "outputs": [
    {
     "name": "stdout",
     "output_type": "stream",
     "text": [
      "[array([-1.], dtype=float32), array([1.], dtype=float32)]\n"
     ]
    }
   ],
   "source": [
    "# Reducing the loss\n",
    "# Manually updating the weights for 0 loss\n",
    "\n",
    "import tensorflow as tf\n",
    "\n",
    "# Model Parameters\n",
    "W = tf.Variable([-1.0],tf.float32)\n",
    "b = tf.Variable([1.0],tf.float32)\n",
    "\n",
    "# Inputs and Outputs\n",
    "x = tf.placeholder(tf.float32)\n",
    "\n",
    "linear_model = W*x + b\n",
    "\n",
    "y = tf.placeholder(tf.float32)\n",
    "\n",
    "# Loss\n",
    "squared_delta = tf.square(linear_model - y)\n",
    "loss = tf.reduce_sum(squared_delta)\n",
    "\n",
    "# Optimizer\n",
    "optimizer = tf.train.GradientDescentOptimizer(0.01)\n",
    "train = optimizer.minimize(loss)\n",
    "\n",
    "#Initialize all variables\n",
    "init = tf.global_variables_initializer()\n",
    "\n",
    "sess = tf.Session()\n",
    "\n",
    "sess.run(init)\n",
    "\n",
    "for i in range(1000):\n",
    "    sess.run(train,{x:[1,2,3,4],y:[0,-1,-2,-3]})\n",
    "    \n",
    "print(sess.run([W,b]))    "
   ]
  },
  {
   "cell_type": "code",
   "execution_count": 11,
   "metadata": {},
   "outputs": [
    {
     "name": "stdout",
     "output_type": "stream",
     "text": [
      "WARNING:tensorflow:From /home/quantiphi/py3_kernel/lib/python3.5/site-packages/tensorflow/python/util/tf_should_use.py:189: initialize_all_variables (from tensorflow.python.ops.variables) is deprecated and will be removed after 2017-03-02.\n",
      "Instructions for updating:\n",
      "Use `tf.global_variables_initializer` instead.\n",
      "epoch:  1 mse:  1.0\n",
      "epoch:  2 mse:  2.0\n",
      "epoch:  3 mse:  0.0\n"
     ]
    }
   ],
   "source": [
    "# Implement AND Gate using TensorFlow\n",
    "\n",
    "import tensorflow as tf\n",
    "\n",
    "T, F =  1., -1.\n",
    "\n",
    "bias = 1.0\n",
    "\n",
    "train_in = [\n",
    "    [T, T, bias],\n",
    "    [T, F, bias],\n",
    "    [F, T, bias],\n",
    "    [F, F, bias]\n",
    "]\n",
    "\n",
    "train_out = [\n",
    "    [T],\n",
    "    [F],\n",
    "    [F],\n",
    "    [F]\n",
    "]\n",
    "\n",
    "# Defining a random variable\n",
    "w = tf.Variable(tf.random_normal([3,1]))\n",
    "\n",
    "def step(x):\n",
    "    is_greater = tf.greater(x,0)\n",
    "    as_float = tf.to_float(is_greater)\n",
    "    doubled = tf.multiply(as_float,2)\n",
    "    return tf.subtract(doubled, 1)\n",
    "\n",
    "output = step(tf.matmul (train_in, w))\n",
    "error = tf.subtract( train_out, output)\n",
    "mse = tf.reduce_mean(tf.square(error))\n",
    "\n",
    "delta = tf.matmul(train_in, error, transpose_a=True)\n",
    "train = tf.assign(w, tf.add(w, delta))\n",
    "\n",
    "sess = tf.Session()\n",
    "sess.run(tf.initialize_all_variables())\n",
    "\n",
    "err, target = 1, 0\n",
    "epoch, max_epoch = 0, 10\n",
    "\n",
    "while err > target and epoch < max_epoch:\n",
    "    epoch += 1\n",
    "    err, _ = sess.run([mse, train])\n",
    "    print('epoch: ', epoch, 'mse: ', err)"
   ]
  },
  {
   "cell_type": "code",
   "execution_count": null,
   "metadata": {},
   "outputs": [],
   "source": []
  }
 ],
 "metadata": {
  "kernelspec": {
   "display_name": "py3",
   "language": "python",
   "name": "py3"
  },
  "language_info": {
   "codemirror_mode": {
    "name": "ipython",
    "version": 3
   },
   "file_extension": ".py",
   "mimetype": "text/x-python",
   "name": "python",
   "nbconvert_exporter": "python",
   "pygments_lexer": "ipython3",
   "version": "3.5.2"
  }
 },
 "nbformat": 4,
 "nbformat_minor": 2
}
